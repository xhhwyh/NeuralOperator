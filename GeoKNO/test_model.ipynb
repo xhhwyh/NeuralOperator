{
 "cells": [
  {
   "cell_type": "code",
   "execution_count": 8,
   "metadata": {},
   "outputs": [],
   "source": [
    "import random\n",
    "import torch\n",
    "import sys\n",
    "import numpy as np\n",
    "import math\n",
    "import matplotlib.pyplot as plt\n",
    "from timeit import default_timer\n",
    "from scipy.io import loadmat\n",
    "from geo_utility import convert_structured_data, preprocess_data\n",
    "from geokno import compute_Fourier_modes, GeoKNO, GeoKNO_train\n",
    "\n",
    "torch.set_printoptions(precision=16)\n",
    "torch.manual_seed(0)\n",
    "np.random.seed(10)\n",
    "\n",
    "device = torch.device('cuda:0' if torch.cuda.is_available() else 'cpu')"
   ]
  },
  {
   "cell_type": "code",
   "execution_count": 9,
   "metadata": {},
   "outputs": [],
   "source": [
    "model1 = torch.load('models\\\\GeoKNO_burgers_model_withmask_without_grad.pth', map_location = device, weights_only=False)\n",
    "model2 = torch.load('models\\\\GeoKNO_burgers_model_withmask.pth', map_location = device, weights_only=False)\n",
    "model3 = torch.load('models\\\\GeoKNO_burgers_model_without_grad.pth', map_location = device, weights_only=False)\n",
    "model4 = torch.load('models\\\\GeoKNO_burgers_model.pth', map_location = device, weights_only=False)"
   ]
  }
 ],
 "metadata": {
  "kernelspec": {
   "display_name": "base",
   "language": "python",
   "name": "python3"
  },
  "language_info": {
   "codemirror_mode": {
    "name": "ipython",
    "version": 3
   },
   "file_extension": ".py",
   "mimetype": "text/x-python",
   "name": "python",
   "nbconvert_exporter": "python",
   "pygments_lexer": "ipython3",
   "version": "3.12.3"
  }
 },
 "nbformat": 4,
 "nbformat_minor": 2
}
